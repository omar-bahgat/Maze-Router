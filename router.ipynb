{
 "cells": [
  {
   "cell_type": "code",
   "execution_count": 1,
   "id": "e7902fcc-9e12-40c8-8a22-9bf49bebf99b",
   "metadata": {},
   "outputs": [],
   "source": [
    "import re\n",
    "from collections import deque"
   ]
  },
  {
   "cell_type": "code",
   "execution_count": 2,
   "id": "413c0d66-fc07-4b7a-8d9e-dbce6077bf19",
   "metadata": {},
   "outputs": [],
   "source": [
    "# global variables\n",
    "obstacles = []\n",
    "nets = {}\n",
    "used_paths = set() \n",
    "ROWS = COLS = VIA_COST = NON_PREF_COST = 0"
   ]
  },
  {
   "cell_type": "markdown",
   "id": "d11d0561-1f3d-4353-a990-978342a6ba98",
   "metadata": {},
   "source": [
    "<h2> Parsing </h2>"
   ]
  },
  {
   "cell_type": "code",
   "execution_count": 4,
   "id": "e02d5ed1-e108-48ad-a6f1-7193b9e1a04d",
   "metadata": {},
   "outputs": [],
   "source": [
    "def parse_input_file(file_path):\n",
    "    \n",
    "    with open(file_path) as f:\n",
    "        global ROWS, COLS, VIA_COST, NON_PREF_COST\n",
    "        values = f.readline().strip()\n",
    "        ROWS, COLS, VIA_COST, NON_PREF_COST = map(int, values.split(','))\n",
    "\n",
    "        for line in f:\n",
    "            line = line.strip()\n",
    "            if line.startswith(\"OBS\"):\n",
    "                obstacles.append(tuple(map(int, re.findall(r\"\\d+\", line))))\n",
    "            elif line.startswith(\"net\"):\n",
    "                net_name, coords = line.split(' ', 1)\n",
    "                nets[net_name] = [tuple(map(int, re.findall(r\"\\d+\", coord))) for coord in coords.split(') (')]"
   ]
  },
  {
   "cell_type": "code",
   "execution_count": 5,
   "id": "8f26ee5a-9160-4f04-a140-5e01397f0cbd",
   "metadata": {},
   "outputs": [],
   "source": [
    "def print_input_file_info():\n",
    "    print(f\"Rows: {ROWS}\\nCols: {COLS}\\nVia Cost: {VIA_COST}\\nNon-preferred Direction Cost: {NON_PREF_COST}\\n\")\n",
    "    \n",
    "    print(\"Obstacles:\")\n",
    "    for obs in obstacles:\n",
    "        print(f\"{obs}\")\n",
    "    \n",
    "    print(\"\\nNets:\")\n",
    "    for net, coords in nets.items():\n",
    "        print(f\"{net}: {coords}\")"
   ]
  },
  {
   "cell_type": "code",
   "execution_count": 6,
   "id": "304a5fd6-f3bc-4b37-93b5-aada16d3bca7",
   "metadata": {},
   "outputs": [
    {
     "name": "stdout",
     "output_type": "stream",
     "text": [
      "Rows: 5\n",
      "Cols: 5\n",
      "Via Cost: 5\n",
      "Non-preferred Direction Cost: 2\n",
      "\n",
      "Obstacles:\n",
      "\n",
      "Nets:\n",
      "net1: [(0, 1, 0), (0, 2, 1)]\n",
      "net2: [(0, 1, 4), (0, 2, 3)]\n",
      "net3: [(0, 4, 0), (0, 0, 4)]\n"
     ]
    }
   ],
   "source": [
    "parse_input_file('input.txt')\n",
    "print_input_file_info()"
   ]
  },
  {
   "cell_type": "markdown",
   "id": "0af5610b-919e-40ba-8741-d42bfa4bd273",
   "metadata": {},
   "source": [
    "<h2> Routing </h2>"
   ]
  },
  {
   "cell_type": "code",
   "execution_count": 8,
   "id": "f34b018c-2c82-45ae-80c6-ece7ff4c3d60",
   "metadata": {},
   "outputs": [],
   "source": [
    "def floodfill(start, end, visited_global):\n",
    "    queue = deque([(start[1], start[2], None)])  # (x, y, prev_direction)\n",
    "    \n",
    "    # Create a local copy of the visited_global for this net's routing\n",
    "    visited_local = set()\n",
    "\n",
    "    grid = [[float('inf')] * COLS for _ in range(ROWS)]  \n",
    "    grid[start[1]][start[2]] = 0\n",
    "\n",
    "    parent = {}  # (x, y) -> (prev_x, prev_y)\n",
    "\n",
    "    DIRECTIONS = [(0, 1), (0, -1), (1, 0), (-1, 0)]\n",
    "\n",
    "    while queue:\n",
    "        x, y, prev_direction = queue.popleft()\n",
    "\n",
    "        # Skip if the cell is already visited (global visited or local visited)\n",
    "        if (x, y) in visited_local or (x, y) in visited_global or (x, y) in obstacles:\n",
    "            continue\n",
    "        visited_local.add((x, y))  # Mark as visited locally\n",
    "\n",
    "        if (x, y) == (end[1], end[2]):\n",
    "            path = [(end[1], end[2])]\n",
    "            while path[-1] in parent:\n",
    "                path.append(parent[path[-1]])\n",
    "            path.reverse()\n",
    "\n",
    "            # Add the path to visited_global\n",
    "            for (px, py) in path:\n",
    "                visited_global.add((px, py))  # Mark cells that were part of the path\n",
    "\n",
    "            return grid[end[1]][end[2]], path  # cost, path\n",
    "\n",
    "        for dx, dy in DIRECTIONS:\n",
    "            nx, ny = x + dx, y + dy\n",
    "\n",
    "            if 0 <= nx < ROWS and 0 <= ny < COLS:\n",
    "                if (nx, ny) in visited_local or (nx, ny) in visited_global or (nx, ny) in obstacles:\n",
    "                    continue\n",
    "\n",
    "                if prev_direction is not None:\n",
    "                    if (dx == 0 and prev_direction == 'H') or (dy == 0 and prev_direction == 'V'):\n",
    "                        new_cost = grid[x][y] + VIA_COST + 1\n",
    "                    else:\n",
    "                        new_cost = grid[x][y] + 1\n",
    "                else:\n",
    "                    new_cost = grid[x][y] + 1\n",
    "\n",
    "                if new_cost < grid[nx][ny]:\n",
    "                    grid[nx][ny] = new_cost\n",
    "                    parent[(nx, ny)] = (x, y)\n",
    "                    queue.append((nx, ny, 'H' if dy == 0 else 'V'))\n",
    "\n",
    "    return -1, []  # No path found\n"
   ]
  },
  {
   "cell_type": "code",
   "execution_count": 9,
   "id": "ae457a63-938d-43c5-97d0-1ffe0e4a79ca",
   "metadata": {},
   "outputs": [],
   "source": [
    "def route_nets():\n",
    "    routed_nets = {}\n",
    "    visited_global = set()  # Keep track of cells that are part of any path\n",
    "\n",
    "    for net_name, coords in nets.items():\n",
    "        start, end = coords\n",
    "        print(f\"Routing {net_name} from {start} to {end}\")\n",
    "        \n",
    "        cost, path = floodfill(start, end, visited_global)\n",
    "        \n",
    "        if cost != -1:\n",
    "            print(f\"{net_name} cost: {cost}\")\n",
    "            routed_nets[net_name] = path\n",
    "        else:\n",
    "            print(f\"No route found for {net_name}.\")\n",
    "        print()\n",
    "\n",
    "    write_output(routed_nets)  # Write the result to the output file\n"
   ]
  },
  {
   "cell_type": "code",
   "execution_count": 10,
   "id": "ceb66e37-1552-428c-b458-ab65b21d926e",
   "metadata": {},
   "outputs": [],
   "source": [
    "def write_output(routed_nets):\n",
    "    with open(\"output.txt\", \"w\") as f:\n",
    "        for net_name, path in routed_nets.items():\n",
    "            line = f\"{net_name} \" + \" \".join(f\"({x}, {y})\" for (x, y) in path)\n",
    "            f.write(line + \"\\n\")"
   ]
  },
  {
   "cell_type": "code",
   "execution_count": 11,
   "id": "06813677-3f31-438c-ac7e-9ba047ff2715",
   "metadata": {},
   "outputs": [
    {
     "name": "stdout",
     "output_type": "stream",
     "text": [
      "Routing net1 from (0, 1, 0) to (0, 2, 1)\n",
      "net1 cost: 7\n",
      "\n",
      "Routing net2 from (0, 1, 4) to (0, 2, 3)\n",
      "net2 cost: 7\n",
      "\n",
      "Routing net3 from (0, 4, 0) to (0, 0, 4)\n",
      "net3 cost: 18\n",
      "\n"
     ]
    }
   ],
   "source": [
    "route_nets()"
   ]
  },
  {
   "cell_type": "code",
   "execution_count": null,
   "id": "e19abad3-1e66-43de-a7a5-38ed57ad6254",
   "metadata": {},
   "outputs": [],
   "source": []
  }
 ],
 "metadata": {
  "kernelspec": {
   "display_name": "Python 3 (ipykernel)",
   "language": "python",
   "name": "python3"
  },
  "language_info": {
   "codemirror_mode": {
    "name": "ipython",
    "version": 3
   },
   "file_extension": ".py",
   "mimetype": "text/x-python",
   "name": "python",
   "nbconvert_exporter": "python",
   "pygments_lexer": "ipython3",
   "version": "3.12.4"
  }
 },
 "nbformat": 4,
 "nbformat_minor": 5
}

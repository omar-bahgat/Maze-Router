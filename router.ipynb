{
 "cells": [
  {
   "cell_type": "code",
   "execution_count": 1,
   "id": "e7902fcc-9e12-40c8-8a22-9bf49bebf99b",
   "metadata": {},
   "outputs": [],
   "source": [
    "import re"
   ]
  },
  {
   "cell_type": "code",
   "execution_count": 2,
   "id": "413c0d66-fc07-4b7a-8d9e-dbce6077bf19",
   "metadata": {},
   "outputs": [],
   "source": [
    "# global variables\n",
    "obstacles = []\n",
    "nets = {}\n",
    "rows = cols = via_cost = non_pref_cost = 0"
   ]
  },
  {
   "cell_type": "code",
   "execution_count": 3,
   "id": "e02d5ed1-e108-48ad-a6f1-7193b9e1a04d",
   "metadata": {},
   "outputs": [],
   "source": [
    "def parse_input_file(file_path):\n",
    "    \n",
    "    with open(file_path) as f:\n",
    "        global rows, cols, via_cost, non_pref_cost \n",
    "        values = f.readline().strip()\n",
    "        rows, cols, via_cost, non_pref_cost = map(int, values.split(','))\n",
    "\n",
    "        for line in f:\n",
    "            line = line.strip()\n",
    "            if line.startswith(\"OBS\"):\n",
    "                obstacles.append(tuple(map(int, re.findall(r\"\\d+\", line))))\n",
    "            elif line.startswith(\"net\"):\n",
    "                net_name, coords = line.split(' ', 1)\n",
    "                nets[net_name] = [tuple(map(int, re.findall(r\"\\d+\", coord))) for coord in coords.split(') (')]"
   ]
  },
  {
   "cell_type": "code",
   "execution_count": 4,
   "id": "8f26ee5a-9160-4f04-a140-5e01397f0cbd",
   "metadata": {},
   "outputs": [],
   "source": [
    "def print_input_file_info():\n",
    "    print(f\"Rows: {rows}\\nCols: {cols}\\nVia Cost: {via_cost}\\nNon-preferred Direction Cost: {non_pref_cost}\\n\")\n",
    "    \n",
    "    print(\"Obstacles:\")\n",
    "    for obs in obstacles:\n",
    "        print(f\"  {obs}\")\n",
    "    \n",
    "    print(\"\\nNets:\")\n",
    "    for net, coords in nets.items():\n",
    "        print(f\"  {net}: {coords}\")"
   ]
  },
  {
   "cell_type": "code",
   "execution_count": 5,
   "id": "304a5fd6-f3bc-4b37-93b5-aada16d3bca7",
   "metadata": {},
   "outputs": [
    {
     "name": "stdout",
     "output_type": "stream",
     "text": [
      "Rows: 100\n",
      "Cols: 200\n",
      "Via Cost: 5\n",
      "Non-preferred Direction Cost: 10\n",
      "\n",
      "Obstacles:\n",
      "  (33, 44)\n",
      "  (55, 77)\n",
      "\n",
      "Nets:\n",
      "  net1: [(1, 10, 20), (2, 30, 50), (1, 5, 100)]\n",
      "  net2: [(2, 100, 200), (1, 300, 50)]\n",
      "  net3: [(1, 100, 50), (2, 300, 150), (2, 50, 50), (1, 2, 2)]\n"
     ]
    }
   ],
   "source": [
    "parse_input_file('input.txt')\n",
    "print_input_file_info()"
   ]
  },
  {
   "cell_type": "code",
   "execution_count": null,
   "id": "f34b018c-2c82-45ae-80c6-ece7ff4c3d60",
   "metadata": {},
   "outputs": [],
   "source": []
  }
 ],
 "metadata": {
  "kernelspec": {
   "display_name": "Python 3 (ipykernel)",
   "language": "python",
   "name": "python3"
  },
  "language_info": {
   "codemirror_mode": {
    "name": "ipython",
    "version": 3
   },
   "file_extension": ".py",
   "mimetype": "text/x-python",
   "name": "python",
   "nbconvert_exporter": "python",
   "pygments_lexer": "ipython3",
   "version": "3.12.4"
  }
 },
 "nbformat": 4,
 "nbformat_minor": 5
}
